{
 "cells": [
  {
   "cell_type": "markdown",
   "metadata": {},
   "source": [
    "# Sparkify Project Workspace\n",
    "This workspace contains a tiny subset (128MB) of the full dataset available (12GB). Feel free to use this workspace to build your project, or to explore a smaller subset with Spark before deploying your cluster on the cloud. Instructions for setting up your Spark cluster is included in the last lesson of the Extracurricular Spark Course content.\n",
    "\n",
    "You can follow the steps below to guide your data analysis and model building portion of this project."
   ]
  },
  {
   "cell_type": "code",
   "execution_count": 26,
   "metadata": {},
   "outputs": [],
   "source": [
    "# import libraries\n",
    "from pyspark.sql import SparkSession\n",
    "from pyspark.sql.functions import avg, substring, col, when, desc, min, max, sum, \\\n",
    "split, udf, count, countDistinct, rand, struct, isnan, isnull, from_unixtime, dayofmonth, month, datediff, to_date, lit, current_date\n",
    "from pyspark.sql.types import IntegerType, ArrayType, FloatType, DoubleType, Row, DateType\n",
    "from pyspark.ml.linalg import DenseVector, SparseVector\n",
    "\n",
    "from pyspark.ml import Pipeline\n",
    "from pyspark.ml.classification import LogisticRegression, RandomForestClassifier, GBTClassifier\n",
    "from pyspark.ml.evaluation import MulticlassClassificationEvaluator\n",
    "from pyspark.ml.feature import CountVectorizer, IDF, Normalizer, PCA, RegexTokenizer, StandardScaler, StopWordsRemover, StringIndexer, VectorAssembler\n",
    "from pyspark.ml.tuning import CrossValidator, ParamGridBuilder\n",
    "\n",
    "import pandas as pd\n",
    "import matplotlib.pyplot as plt\n",
    "import seaborn as sns\n",
    "%matplotlib inline\n",
    "import datetime"
   ]
  },
  {
   "cell_type": "code",
   "execution_count": null,
   "metadata": {},
   "outputs": [],
   "source": [
    "# create a Spark session\n"
   ]
  },
  {
   "cell_type": "markdown",
   "metadata": {},
   "source": [
    "# Load and Clean Dataset\n",
    "In this workspace, the mini-dataset file is `mini_sparkify_event_data.json`. Load and clean the dataset, checking for invalid or missing data - for example, records without userids or sessionids. "
   ]
  },
  {
   "cell_type": "code",
   "execution_count": 27,
   "metadata": {},
   "outputs": [
    {
     "name": "stdout",
     "output_type": "stream",
     "text": [
      "+----------------+---------+---------+------+-------------+--------+---------+-----+--------------------+------+--------+-------------+---------+--------------------+------+-------------+--------------------+------+\n",
      "|          artist|     auth|firstName|gender|itemInSession|lastName|   length|level|            location|method|    page| registration|sessionId|                song|status|           ts|           userAgent|userId|\n",
      "+----------------+---------+---------+------+-------------+--------+---------+-----+--------------------+------+--------+-------------+---------+--------------------+------+-------------+--------------------+------+\n",
      "|  Martha Tilston|Logged In|    Colin|     M|           50| Freeman|277.89016| paid|     Bakersfield, CA|   PUT|NextSong|1538173362000|       29|           Rockpools|   200|1538352117000|Mozilla/5.0 (Wind...|    30|\n",
      "|Five Iron Frenzy|Logged In|    Micah|     M|           79|    Long|236.09424| free|Boston-Cambridge-...|   PUT|NextSong|1538331630000|        8|              Canada|   200|1538352180000|\"Mozilla/5.0 (Win...|     9|\n",
      "|    Adam Lambert|Logged In|    Colin|     M|           51| Freeman| 282.8273| paid|     Bakersfield, CA|   PUT|NextSong|1538173362000|       29|   Time For Miracles|   200|1538352394000|Mozilla/5.0 (Wind...|    30|\n",
      "|          Enigma|Logged In|    Micah|     M|           80|    Long|262.71302| free|Boston-Cambridge-...|   PUT|NextSong|1538331630000|        8|Knocking On Forbi...|   200|1538352416000|\"Mozilla/5.0 (Win...|     9|\n",
      "|       Daft Punk|Logged In|    Colin|     M|           52| Freeman|223.60771| paid|     Bakersfield, CA|   PUT|NextSong|1538173362000|       29|Harder Better Fas...|   200|1538352676000|Mozilla/5.0 (Wind...|    30|\n",
      "+----------------+---------+---------+------+-------------+--------+---------+-----+--------------------+------+--------+-------------+---------+--------------------+------+-------------+--------------------+------+\n",
      "only showing top 5 rows\n",
      "\n"
     ]
    }
   ],
   "source": [
    "# Create the spark session and load the dataframe\n",
    "spark = SparkSession \\\n",
    "    .builder \\\n",
    "    .appName(\"Churn Analysis\") \\\n",
    "    .getOrCreate()\n",
    "\n",
    "path = \"mini_sparkify_event_data.json\"\n",
    "df = spark.read.json(path)\n",
    "df.persist()\n",
    "\n",
    "df.show(5)"
   ]
  },
  {
   "cell_type": "markdown",
   "metadata": {},
   "source": [
    "# Exploratory Data Analysis\n",
    "When you're working with the full dataset, perform EDA by loading a small subset of the data and doing basic manipulations within Spark. In this workspace, you are already provided a small subset of data you can explore.\n",
    "\n",
    "### Define Churn\n",
    "\n",
    "Once you've done some preliminary analysis, create a column `Churn` to use as the label for your model. I suggest using the `Cancellation Confirmation` events to define your churn, which happen for both paid and free users. As a bonus task, you can also look into the `Downgrade` events.\n",
    "\n",
    "### Explore Data\n",
    "Once you've defined churn, perform some exploratory data analysis to observe the behavior for users who stayed vs users who churned. You can start by exploring aggregates on these two groups of users, observing how much of a specific action they experienced per a certain time unit or number of songs played."
   ]
  },
  {
   "cell_type": "code",
   "execution_count": 28,
   "metadata": {},
   "outputs": [],
   "source": [
    "df.createOrReplaceTempView('logs')"
   ]
  },
  {
   "cell_type": "code",
   "execution_count": 29,
   "metadata": {},
   "outputs": [
    {
     "name": "stdout",
     "output_type": "stream",
     "text": [
      "+------+----+---------+------+-------------+--------+------+-----+--------+------+----+------------+---------+-----+------+---+---------+------+\n",
      "|artist|auth|firstName|gender|itemInSession|lastName|length|level|location|method|page|registration|sessionId| song|status| ts|userAgent|userId|\n",
      "+------+----+---------+------+-------------+--------+------+-----+--------+------+----+------------+---------+-----+------+---+---------+------+\n",
      "| 58392|   0|     8346|  8346|            0|    8346| 58392|    0|    8346|     0|   0|        8346|        0|58392|     0|  0|     8346|     0|\n",
      "+------+----+---------+------+-------------+--------+------+-----+--------+------+----+------------+---------+-----+------+---+---------+------+\n",
      "\n"
     ]
    }
   ],
   "source": [
    "df.select([count(when(isnull(c), c)).alias(c) for c in df.columns]).show()"
   ]
  },
  {
   "cell_type": "code",
   "execution_count": 30,
   "metadata": {},
   "outputs": [
    {
     "name": "stdout",
     "output_type": "stream",
     "text": [
      "+------+----------+---------+------+-------------+--------+------+-----+--------+------+-----+------------+---------+----+------+-------------+---------+------+\n",
      "|artist|      auth|firstName|gender|itemInSession|lastName|length|level|location|method| page|registration|sessionId|song|status|           ts|userAgent|userId|\n",
      "+------+----------+---------+------+-------------+--------+------+-----+--------+------+-----+------------+---------+----+------+-------------+---------+------+\n",
      "|  null|Logged Out|     null|  null|          100|    null|  null| free|    null|   GET| Home|        null|        8|null|   200|1538355745000|     null|      |\n",
      "|  null|Logged Out|     null|  null|          101|    null|  null| free|    null|   GET| Help|        null|        8|null|   200|1538355807000|     null|      |\n",
      "|  null|Logged Out|     null|  null|          102|    null|  null| free|    null|   GET| Home|        null|        8|null|   200|1538355841000|     null|      |\n",
      "|  null|Logged Out|     null|  null|          103|    null|  null| free|    null|   PUT|Login|        null|        8|null|   307|1538355842000|     null|      |\n",
      "|  null|Logged Out|     null|  null|            2|    null|  null| free|    null|   GET| Home|        null|      240|null|   200|1538356678000|     null|      |\n",
      "|  null|Logged Out|     null|  null|            3|    null|  null| free|    null|   PUT|Login|        null|      240|null|   307|1538356679000|     null|      |\n",
      "|  null|Logged Out|     null|  null|            0|    null|  null| free|    null|   PUT|Login|        null|      100|null|   307|1538358102000|     null|      |\n",
      "|  null|Logged Out|     null|  null|            0|    null|  null| free|    null|   PUT|Login|        null|      241|null|   307|1538360117000|     null|      |\n",
      "|  null|Logged Out|     null|  null|           14|    null|  null| free|    null|   GET| Home|        null|      187|null|   200|1538361527000|     null|      |\n",
      "|  null|Logged Out|     null|  null|           15|    null|  null| free|    null|   PUT|Login|        null|      187|null|   307|1538361528000|     null|      |\n",
      "+------+----------+---------+------+-------------+--------+------+-----+--------+------+-----+------------+---------+----+------+-------------+---------+------+\n",
      "only showing top 10 rows\n",
      "\n"
     ]
    }
   ],
   "source": [
    "df.where(col('firstName').isNull()).show(10)"
   ]
  },
  {
   "cell_type": "code",
   "execution_count": 6,
   "metadata": {},
   "outputs": [
    {
     "name": "stdout",
     "output_type": "stream",
     "text": [
      "root\n",
      " |-- artist: string (nullable = true)\n",
      " |-- auth: string (nullable = true)\n",
      " |-- firstName: string (nullable = true)\n",
      " |-- gender: string (nullable = true)\n",
      " |-- itemInSession: long (nullable = true)\n",
      " |-- lastName: string (nullable = true)\n",
      " |-- length: double (nullable = true)\n",
      " |-- level: string (nullable = true)\n",
      " |-- location: string (nullable = true)\n",
      " |-- method: string (nullable = true)\n",
      " |-- page: string (nullable = true)\n",
      " |-- registration: long (nullable = true)\n",
      " |-- sessionId: long (nullable = true)\n",
      " |-- song: string (nullable = true)\n",
      " |-- status: long (nullable = true)\n",
      " |-- ts: long (nullable = true)\n",
      " |-- userAgent: string (nullable = true)\n",
      " |-- userId: string (nullable = true)\n",
      "\n"
     ]
    }
   ],
   "source": [
    "df.printSchema()"
   ]
  },
  {
   "cell_type": "code",
   "execution_count": 7,
   "metadata": {},
   "outputs": [
    {
     "name": "stdout",
     "output_type": "stream",
     "text": [
      "+----------------+---------+---------+------+-------------+--------+---------+-----+--------------------+------+--------+-------------+---------+--------------------+------+-------------+--------------------+------+\n",
      "|          artist|     auth|firstName|gender|itemInSession|lastName|   length|level|            location|method|    page| registration|sessionId|                song|status|           ts|           userAgent|userId|\n",
      "+----------------+---------+---------+------+-------------+--------+---------+-----+--------------------+------+--------+-------------+---------+--------------------+------+-------------+--------------------+------+\n",
      "|  Martha Tilston|Logged In|    Colin|     M|           50| Freeman|277.89016| paid|     Bakersfield, CA|   PUT|NextSong|1538173362000|       29|           Rockpools|   200|1538352117000|Mozilla/5.0 (Wind...|    30|\n",
      "|Five Iron Frenzy|Logged In|    Micah|     M|           79|    Long|236.09424| free|Boston-Cambridge-...|   PUT|NextSong|1538331630000|        8|              Canada|   200|1538352180000|\"Mozilla/5.0 (Win...|     9|\n",
      "|    Adam Lambert|Logged In|    Colin|     M|           51| Freeman| 282.8273| paid|     Bakersfield, CA|   PUT|NextSong|1538173362000|       29|   Time For Miracles|   200|1538352394000|Mozilla/5.0 (Wind...|    30|\n",
      "|          Enigma|Logged In|    Micah|     M|           80|    Long|262.71302| free|Boston-Cambridge-...|   PUT|NextSong|1538331630000|        8|Knocking On Forbi...|   200|1538352416000|\"Mozilla/5.0 (Win...|     9|\n",
      "|       Daft Punk|Logged In|    Colin|     M|           52| Freeman|223.60771| paid|     Bakersfield, CA|   PUT|NextSong|1538173362000|       29|Harder Better Fas...|   200|1538352676000|Mozilla/5.0 (Wind...|    30|\n",
      "+----------------+---------+---------+------+-------------+--------+---------+-----+--------------------+------+--------+-------------+---------+--------------------+------+-------------+--------------------+------+\n",
      "only showing top 5 rows\n",
      "\n"
     ]
    }
   ],
   "source": [
    "df.show(n=5)"
   ]
  },
  {
   "cell_type": "code",
   "execution_count": 8,
   "metadata": {},
   "outputs": [
    {
     "name": "stdout",
     "output_type": "stream",
     "text": [
      "+--------------------+------+\n",
      "|                Page| count|\n",
      "+--------------------+------+\n",
      "|              Cancel|    52|\n",
      "|    Submit Downgrade|    63|\n",
      "|         Thumbs Down|  2546|\n",
      "|                Home| 14457|\n",
      "|           Downgrade|  2055|\n",
      "|         Roll Advert|  3933|\n",
      "|              Logout|  3226|\n",
      "|       Save Settings|   310|\n",
      "|Cancellation Conf...|    52|\n",
      "|               About|   924|\n",
      "| Submit Registration|     5|\n",
      "|            Settings|  1514|\n",
      "|               Login|  3241|\n",
      "|            Register|    18|\n",
      "|     Add to Playlist|  6526|\n",
      "|          Add Friend|  4277|\n",
      "|            NextSong|228108|\n",
      "|           Thumbs Up| 12551|\n",
      "|                Help|  1726|\n",
      "|             Upgrade|   499|\n",
      "+--------------------+------+\n",
      "only showing top 20 rows\n",
      "\n"
     ]
    }
   ],
   "source": [
    "df.groupBy('Page').count().show()"
   ]
  },
  {
   "cell_type": "code",
   "execution_count": 9,
   "metadata": {},
   "outputs": [
    {
     "name": "stdout",
     "output_type": "stream",
     "text": [
      "+--------+\n",
      "|nb_users|\n",
      "+--------+\n",
      "|     226|\n",
      "+--------+\n",
      "\n"
     ]
    }
   ],
   "source": [
    "spark.sql('SELECT COUNT(DISTINCT userId) AS nb_users FROM logs').show()"
   ]
  },
  {
   "cell_type": "code",
   "execution_count": 31,
   "metadata": {},
   "outputs": [
    {
     "data": {
      "text/plain": [
       "226"
      ]
     },
     "execution_count": 31,
     "metadata": {},
     "output_type": "execute_result"
    }
   ],
   "source": [
    "churn = spark.sql('SELECT DISTINCT userId, 1 as churn FROM logs WHERE Page = \"Cancellation Confirmation\"')\n",
    "\n",
    "# Then the other users\n",
    "no_churn = spark.sql('SELECT DISTINCT userId, 0 as churn FROM logs \\\n",
    "                      WHERE userId NOT IN (SELECT DISTINCT userId FROM logs WHERE Page = \"Cancellation Confirmation\")')\n",
    "\n",
    "# Create a dataframe from the union of the two, shuffling the rows\n",
    "churn_df = churn.union(no_churn)\n",
    "churn_df.createOrReplaceTempView('churn')\n",
    "churn_df = spark.sql('SELECT * FROM churn ORDER BY RAND()')\n",
    "churn_df.createOrReplaceTempView('churn')\n",
    "\n",
    "# Check that we have the right number of users\n",
    "churn_df.count()"
   ]
  },
  {
   "cell_type": "code",
   "execution_count": 32,
   "metadata": {},
   "outputs": [
    {
     "data": {
      "text/html": [
       "<div>\n",
       "<style scoped>\n",
       "    .dataframe tbody tr th:only-of-type {\n",
       "        vertical-align: middle;\n",
       "    }\n",
       "\n",
       "    .dataframe tbody tr th {\n",
       "        vertical-align: top;\n",
       "    }\n",
       "\n",
       "    .dataframe thead th {\n",
       "        text-align: right;\n",
       "    }\n",
       "</style>\n",
       "<table border=\"1\" class=\"dataframe\">\n",
       "  <thead>\n",
       "    <tr style=\"text-align: right;\">\n",
       "      <th></th>\n",
       "      <th>churn</th>\n",
       "      <th>userId</th>\n",
       "    </tr>\n",
       "  </thead>\n",
       "  <tbody>\n",
       "    <tr>\n",
       "      <th>0</th>\n",
       "      <td>0</td>\n",
       "      <td>174</td>\n",
       "    </tr>\n",
       "    <tr>\n",
       "      <th>1</th>\n",
       "      <td>1</td>\n",
       "      <td>52</td>\n",
       "    </tr>\n",
       "  </tbody>\n",
       "</table>\n",
       "</div>"
      ],
      "text/plain": [
       "   churn  userId\n",
       "0      0     174\n",
       "1      1      52"
      ]
     },
     "execution_count": 32,
     "metadata": {},
     "output_type": "execute_result"
    }
   ],
   "source": [
    "# visualize the distribution of users between churning or not\n",
    "churn_pd_df = churn_df.toPandas()\n",
    "churn_pd_df.groupby('churn', as_index=False).count()"
   ]
  },
  {
   "cell_type": "markdown",
   "metadata": {},
   "source": [
    "# Feature Engineering\n",
    "Once you've familiarized yourself with the data, build out the features you find promising to train your model on. To work with the full dataset, you can follow the following steps.\n",
    "- Write a script to extract the necessary features from the smaller subset of data\n",
    "- Ensure that your script is scalable, using the best practices discussed in Lesson 3\n",
    "- Try your script on the full data set, debugging your script if necessary\n",
    "\n",
    "If you are working in the classroom workspace, you can just extract features based on the small subset of data contained here. Be sure to transfer over this work to the larger dataset when you work on your Spark cluster."
   ]
  },
  {
   "cell_type": "code",
   "execution_count": 33,
   "metadata": {},
   "outputs": [
    {
     "name": "stdout",
     "output_type": "stream",
     "text": [
      "+-----+-----+------+\n",
      "|churn|level| count|\n",
      "+-----+-----+------+\n",
      "|    0| free| 45950|\n",
      "|    0| paid|195686|\n",
      "|    1| paid| 32476|\n",
      "|    1| free| 12388|\n",
      "+-----+-----+------+\n",
      "\n"
     ]
    }
   ],
   "source": [
    "# Join our churn dataset to our full dataset to add a column\n",
    "joined_df = df.join(churn_df, on='userId')\n",
    "\n",
    "# Use this column to create some aggregates, first comparing the level of the account\n",
    "joined_df.groupBy(['churn', 'level']).count().show(5)"
   ]
  },
  {
   "cell_type": "code",
   "execution_count": 34,
   "metadata": {},
   "outputs": [
    {
     "data": {
      "image/png": "[encoded data removed]",
      "text/plain": [
       "<matplotlib.figure.Figure at 0x7f4651587f60>"
      ]
     },
     "metadata": {
      "needs_background": "light"
     },
     "output_type": "display_data"
    }
   ],
   "source": [
    "# Build a data visualization: a grouped bar chart of proportions\n",
    "level_df = joined_df.groupBy(['churn', 'level']).count().toPandas()\n",
    "churn_sum = level_df.groupby('churn', as_index=False).sum()\n",
    "level_df['proportion'] = (level_df.join(churn_sum, on = 'churn', lsuffix='_1')['count_1']/level_df.join(churn_sum, on = 'churn', lsuffix='_1')['count'])*100\n",
    "\n",
    "g = sns.barplot(x=\"churn\", y=\"proportion\", hue=\"level\", data=level_df,\n",
    "                palette=\"muted\")\n",
    "g.set(xlabel='Churn', ylabel=\"Tier Proportion (in %)\")\n",
    "plt.show();"
   ]
  },
  {
   "cell_type": "code",
   "execution_count": 35,
   "metadata": {
    "scrolled": true
   },
   "outputs": [
    {
     "name": "stdout",
     "output_type": "stream",
     "text": [
      "+-----+------------------+\n",
      "|churn|       avg(length)|\n",
      "+-----+------------------+\n",
      "|    1|248.63279564406218|\n",
      "|    0|249.20913538880816|\n",
      "+-----+------------------+\n",
      "\n"
     ]
    }
   ],
   "source": [
    "joined_df.groupBy('churn').avg('length').show(5)"
   ]
  },
  {
   "cell_type": "code",
   "execution_count": 36,
   "metadata": {},
   "outputs": [
    {
     "data": {
      "image/png": "[encoded data removed]",
      "text/plain": [
       "<matplotlib.figure.Figure at 0x7f4650478898>"
      ]
     },
     "metadata": {
      "needs_background": "light"
     },
     "output_type": "display_data"
    }
   ],
   "source": [
    "# get the average length for every user, keeping the churn information and transform to a Pandas dataframe\n",
    "length_df = joined_df.groupBy(['userId', 'churn']).avg('length').toPandas()\n",
    "\n",
    "# visualize the distribution of length between two groups of users\n",
    "g = sns.FacetGrid(length_df, col=\"churn\", sharey=False)\n",
    "g.map(plt.hist, \"avg(length)\");"
   ]
  },
  {
   "cell_type": "code",
   "execution_count": 37,
   "metadata": {},
   "outputs": [
    {
     "name": "stdout",
     "output_type": "stream",
     "text": [
      "+-----+------------------+\n",
      "|churn|avg(itemInSession)|\n",
      "+-----+------------------+\n",
      "|    1|109.23299304564907|\n",
      "|    0| 115.3761980830671|\n",
      "+-----+------------------+\n",
      "\n"
     ]
    }
   ],
   "source": [
    "# The itemInSession variable, which represents the rank fo the song in the current sessionk\n",
    "joined_df.groupBy('churn').avg('itemInSession').show(5)"
   ]
  },
  {
   "cell_type": "code",
   "execution_count": 38,
   "metadata": {},
   "outputs": [
    {
     "data": {
      "image/png": "[encoded data removed]",
      "text/plain": [
       "<matplotlib.figure.Figure at 0x7f46503787b8>"
      ]
     },
     "metadata": {
      "needs_background": "light"
     },
     "output_type": "display_data"
    }
   ],
   "source": [
    "# Similar to length, we visualize the distribution between both groups\n",
    "item_df = joined_df.groupBy(['userId','churn']).avg('itemInSession').toPandas()\n",
    "g = sns.FacetGrid(item_df, col=\"churn\", sharey=False)\n",
    "g.map(plt.hist, \"avg(itemInSession)\");"
   ]
  },
  {
   "cell_type": "code",
   "execution_count": 39,
   "metadata": {},
   "outputs": [
    {
     "name": "stdout",
     "output_type": "stream",
     "text": [
      "+-----+-----+-----+\n",
      "|churn|state|count|\n",
      "+-----+-----+-----+\n",
      "|    0|   CA|39158|\n",
      "|    0|   PA|23708|\n",
      "|    0|   TX|22200|\n",
      "|    0|   NH|18637|\n",
      "|    0|   FL|11427|\n",
      "+-----+-----+-----+\n",
      "only showing top 5 rows\n",
      "\n",
      "+-----+-----+-----+\n",
      "|churn|state|count|\n",
      "+-----+-----+-----+\n",
      "|    1|   CA| 7613|\n",
      "|    1|   CO| 4317|\n",
      "|    1|   MS| 3839|\n",
      "|    1|   WA| 3526|\n",
      "|    1|   OH| 3173|\n",
      "+-----+-----+-----+\n",
      "only showing top 5 rows\n",
      "\n"
     ]
    }
   ],
   "source": [
    "# Let's create a variable representing the state\n",
    "joined_df = joined_df.withColumn('state', substring(col(\"location\"), -2, 3))\n",
    "\n",
    "# See the most present states for people who churned \n",
    "joined_df.groupBy(['churn', 'state']).count().where(joined_df['churn'] == 0).sort(col('count').desc()).show(5)\n",
    "joined_df.groupBy(['churn', 'state']).count().where(joined_df['churn'] == 1).sort(col('count').desc()).show(5)"
   ]
  },
  {
   "cell_type": "code",
   "execution_count": 40,
   "metadata": {},
   "outputs": [
    {
     "name": "stdout",
     "output_type": "stream",
     "text": [
      "+-----+--------------------+\n",
      "|churn|             avg(ts)|\n",
      "+-----+--------------------+\n",
      "|    1|1.539919263874465E12|\n",
      "|    0|1.541149543429935...|\n",
      "+-----+--------------------+\n",
      "\n"
     ]
    }
   ],
   "source": [
    "# Study potential differences based on ts\n",
    "joined_df.groupBy('churn').avg('ts').show(5)"
   ]
  },
  {
   "cell_type": "code",
   "execution_count": 41,
   "metadata": {},
   "outputs": [],
   "source": [
    "# the ts column is actually a unix timestamp, which we convert to a date format\n",
    "joined_df = joined_df.withColumn('date', from_unixtime((col('ts')/1000)).cast(DateType()))"
   ]
  },
  {
   "cell_type": "code",
   "execution_count": 42,
   "metadata": {},
   "outputs": [],
   "source": [
    "# once this is done, we can create several time based features\n",
    "# first, extract day and month from the date column\n",
    "joined_df = joined_df.withColumn('day', dayofmonth('date')).withColumn('month', month('date'))\n",
    "\n",
    "# then for a given user get the average number of distinct sessions per day and per month\n",
    "day_df = joined_df.groupBy(['userId', 'day']).agg(countDistinct('sessionId')).groupBy('userId').avg('count(DISTINCT sessionId)') \\\n",
    "                  .withColumnRenamed('avg(count(DISTINCT sessionId))', 'daily_sessions')\n",
    "month_df = joined_df.groupBy(['userId', 'month']).agg(countDistinct('sessionId')).groupBy('userId').avg('count(DISTINCT sessionId)') \\\n",
    "                  .withColumnRenamed('avg(count(DISTINCT sessionId))', 'monthly_sessions')\n",
    "\n",
    "# join this information back to the original joined_df for each row for a given userId, it will be used later\n",
    "joined_df = joined_df.join(day_df, on='userId').join(month_df, on='userId')"
   ]
  },
  {
   "cell_type": "code",
   "execution_count": 43,
   "metadata": {},
   "outputs": [
    {
     "name": "stdout",
     "output_type": "stream",
     "text": [
      "+-----+-------------------+\n",
      "|churn|avg(daily_sessions)|\n",
      "+-----+-------------------+\n",
      "|    1|  1.427520820895794|\n",
      "|    0|  4.113836147716095|\n",
      "+-----+-------------------+\n",
      "\n",
      "+-----+---------------------+\n",
      "|churn|avg(monthly_sessions)|\n",
      "+-----+---------------------+\n",
      "|    1|   10.472394347360913|\n",
      "|    0|   44.933760559960724|\n",
      "+-----+---------------------+\n",
      "\n"
     ]
    }
   ],
   "source": [
    "# Compare number of daily and monthly sessions for the two groups of users\n",
    "joined_df.groupBy('churn').avg('daily_sessions').show()\n",
    "joined_df.groupBy('churn').avg('monthly_sessions').show()"
   ]
  },
  {
   "cell_type": "code",
   "execution_count": 44,
   "metadata": {},
   "outputs": [],
   "source": [
    "# registration is also unix timestamp, representing the registration date. Convert them to an actual date\n",
    "joined_df = joined_df.withColumn('registration_date', from_unixtime((col('registration')/1000)).cast(DateType()))\n",
    "\n",
    "# create a new feature capturing the number of days since registration\n",
    "joined_df = joined_df.withColumn('days_since_registration', datediff(current_date(), col('registration_date')))\n",
    "\n",
    "# create a new feature capturing the month of the year when they registered, to account for potential promotions\n",
    "joined_df = joined_df.withColumn('month_registration', month('registration_date'))"
   ]
  },
  {
   "cell_type": "code",
   "execution_count": 45,
   "metadata": {},
   "outputs": [
    {
     "name": "stdout",
     "output_type": "stream",
     "text": [
      "+-----+--------------------+-----+\n",
      "|churn|           userAgent|count|\n",
      "+-----+--------------------+-----+\n",
      "|    0|\"Mozilla/5.0 (Win...|18226|\n",
      "|    0|\"Mozilla/5.0 (Mac...|16298|\n",
      "|    0|\"Mozilla/5.0 (Mac...|15914|\n",
      "|    0|\"Mozilla/5.0 (Win...|15237|\n",
      "|    0|Mozilla/5.0 (Wind...|15224|\n",
      "+-----+--------------------+-----+\n",
      "only showing top 5 rows\n",
      "\n",
      "+-----+--------------------+-----+\n",
      "|churn|           userAgent|count|\n",
      "+-----+--------------------+-----+\n",
      "|    1|\"Mozilla/5.0 (Mac...| 4736|\n",
      "|    1|\"Mozilla/5.0 (Win...| 4525|\n",
      "|    1|Mozilla/5.0 (Wind...| 3437|\n",
      "|    1|\"Mozilla/5.0 (Mac...| 2534|\n",
      "|    1|Mozilla/5.0 (Maci...| 2462|\n",
      "+-----+--------------------+-----+\n",
      "only showing top 5 rows\n",
      "\n"
     ]
    }
   ],
   "source": [
    "# Study potential differences based on user agent\n",
    "joined_df.groupBy(['churn', 'userAgent']).count().where(joined_df['churn'] == 0).sort(col('count').desc()).show(5)\n",
    "joined_df.groupBy(['churn', 'userAgent']).count().where(joined_df['churn'] == 1).sort(col('count').desc()).show(5)"
   ]
  },
  {
   "cell_type": "code",
   "execution_count": 46,
   "metadata": {},
   "outputs": [],
   "source": [
    "# For a given user we compute number of downgrades, upgrades, thumbs up, thumbs down, add friend, add to playlist, roll advert\n",
    "\n",
    "# Create a column for each of these events, with a 1 each time they occur\n",
    "for c in ['Downgrade', 'Roll Advert', 'Thumbs Down', 'Add to Playlist', 'Add Friend', 'Thumbs Up']:\n",
    "    joined_df = joined_df.withColumn(c, (joined_df['Page'] == c).cast(IntegerType()))\n",
    "    \n",
    "# Prepare data for the pipeline\n",
    "features_df = joined_df.groupBy('userId').agg(avg('itemInSession'), \n",
    "                                              avg('length'),\n",
    "                                              min('daily_sessions'),\n",
    "                                              min('monthly_sessions'),\n",
    "                                              min('days_since_registration'),\n",
    "                                              min('month_registration'),\n",
    "                                            max('level'), \n",
    "                                            max('userAgent'),\n",
    "                                           max('state'),\n",
    "                                           sum('Downgrade'),\n",
    "                                           sum('Roll Advert'),\n",
    "                                           sum('Thumbs Down'),\n",
    "                                           sum('Add to Playlist'),\n",
    "                                           sum('Add Friend'),\n",
    "                                           sum('Thumbs Up'),\n",
    "                                           max('churn'))\n",
    "\n",
    "features_df = features_df.select(col('avg(itemInSession)').alias('itemInSession'),\n",
    "                                 col('avg(length)').alias('length'),\n",
    "                                 col('min(daily_sessions)').alias('daily_sessions'),\n",
    "                                 col('min(monthly_sessions)').alias('monthly_sessions'),\n",
    "                                 col('min(days_since_registration)').alias('days_since_registration'),\n",
    "                                 col('min(month_registration)').alias('month_registration'),\n",
    "                  col('max(level)').alias('level'),\n",
    "                  col('max(userAgent)').alias('userAgent'),\n",
    "                  col('max(state)').alias('state'),\n",
    "                  col('sum(Downgrade)').alias('downgrade'),\n",
    "                  col('sum(Roll Advert)').alias('rollAdvert'),\n",
    "                  col('sum(Thumbs Down)').alias('thumbsDown'),\n",
    "                  col('sum(Add to Playlist)').alias('addToPlaylist'),\n",
    "                  col('sum(Add Friend)').alias('addFriend'),\n",
    "                  col('sum(Thumbs Up)').alias('thumbsUp'),\n",
    "                  col('max(churn)').alias('label'))"
   ]
  },
  {
   "cell_type": "code",
   "execution_count": 47,
   "metadata": {},
   "outputs": [
    {
     "name": "stdout",
     "output_type": "stream",
     "text": [
      "+-------------+------+--------------+----------------+-----------------------+------------------+-----+---------+-----+---------+----------+----------+-------------+---------+--------+-----+\n",
      "|itemInSession|length|daily_sessions|monthly_sessions|days_since_registration|month_registration|level|userAgent|state|downgrade|rollAdvert|thumbsDown|addToPlaylist|addFriend|thumbsUp|label|\n",
      "+-------------+------+--------------+----------------+-----------------------+------------------+-----+---------+-----+---------+----------+----------+-------------+---------+--------+-----+\n",
      "|            0|     1|             0|               0|                      1|                 1|    0|        1|    1|        0|         0|         0|            0|        0|       0|    0|\n",
      "+-------------+------+--------------+----------------+-----------------------+------------------+-----+---------+-----+---------+----------+----------+-------------+---------+--------+-----+\n",
      "\n"
     ]
    }
   ],
   "source": [
    "# Visualize the presence of potential null values\n",
    "features_df.select([count(when(isnull(c), c)).alias(c) for c in features_df.columns]).show()\n",
    "\n",
    "# Remove these null values\n",
    "features_df = features_df.where(col(\"userAgent\").isNotNull()).where(col(\"state\").isNotNull())"
   ]
  },
  {
   "cell_type": "code",
   "execution_count": null,
   "metadata": {},
   "outputs": [],
   "source": []
  },
  {
   "cell_type": "markdown",
   "metadata": {},
   "source": [
    "# Modeling\n",
    "Split the full dataset into train, test, and validation sets. Test out several of the machine learning methods you learned. Evaluate the accuracy of the various models, tuning parameters as necessary. Determine your winning model based on test accuracy and report results on the validation set. Since the churned users are a fairly small subset, I suggest using F1 score as the metric to optimize."
   ]
  },
  {
   "cell_type": "code",
   "execution_count": 48,
   "metadata": {},
   "outputs": [],
   "source": [
    "# We first create a pipeline to prepare our data for modeling\n",
    "indexer_state = StringIndexer(inputCol='state', outputCol='state_index')\n",
    "indexer_level = StringIndexer(inputCol='level', outputCol='level_index')\n",
    "indexer_ua = StringIndexer(inputCol='userAgent', outputCol='userAgent_index')\n",
    "assembler = VectorAssembler(inputCols=['itemInSession', \n",
    "                                       'length',\n",
    "                                       'daily_sessions',\n",
    "                                       'monthly_sessions',\n",
    "                                       'days_since_registration',\n",
    "                                       'month_registration',\n",
    "                                       'level_index', \n",
    "                                       'state_index',\n",
    "                                       'userAgent_index',\n",
    "                                       'downgrade',\n",
    "                                       'rollAdvert',\n",
    "                                       'thumbsDown',\n",
    "                                       'addToPlaylist',\n",
    "                                       'addFriend',\n",
    "                                       'thumbsUp'],\n",
    "                           outputCol='features')\n",
    "features_pipeline = Pipeline(stages=[indexer_state, indexer_level, indexer_ua, assembler])\n",
    "\n",
    "model_df = features_pipeline.fit(features_df).transform(features_df)"
   ]
  },
  {
   "cell_type": "code",
   "execution_count": 49,
   "metadata": {},
   "outputs": [],
   "source": [
    "# Due to the structure of data, we need to convert some features vector from Sparse to Dense\n",
    "df2 = model_df.select(\"label\", \"features\")\n",
    "rdd = df2.rdd.map(lambda x: Row(label=x[0],features=DenseVector(x[1].toArray()))\n",
    "                     if (len(x)>1 and hasattr(x[1], \"toArray\"))\n",
    "                     else Row(label=None, features=DenseVector([])))\n",
    "model_data = spark.createDataFrame(rdd)"
   ]
  },
  {
   "cell_type": "code",
   "execution_count": 51,
   "metadata": {},
   "outputs": [],
   "source": [
    "# Create a function to train and estimate a model\n",
    "def fit_estimate(train, test, model):\n",
    "    '''\n",
    "    INPUTS:\n",
    "    train (Spark df): a Spark data frame with training data\n",
    "    test (Spark df): a Spark data frame with testing data\n",
    "    model (string): a string designating one of the models to fit, either 'logistic_regression', 'random_forest' \n",
    "                    or 'gradient_boosting'\n",
    "    \n",
    "    OUTPUT:\n",
    "    None, prints out accuracy for the model\n",
    "    \n",
    "    DESCRIPTION:\n",
    "    Fits and estimates different classification models with the default parameters\n",
    "    '''\n",
    "    # Choose the model\n",
    "    if model == 'logistic_regression':\n",
    "        ml = LogisticRegression()\n",
    "    elif model == 'random_forest':\n",
    "        ml = RandomForestClassifier()\n",
    "    elif model == 'gradient_boosting':\n",
    "        ml = GBTClassifier()\n",
    "    else:\n",
    "        return \"Please choose an appropriate model\"\n",
    "    \n",
    "    # Fit and calculate predictions\n",
    "    classification = ml.fit(train)\n",
    "    results = classification.transform(test)\n",
    "    \n",
    "    # Calculate accuracy and F-1 score\n",
    "    accuracy_evaluator = MulticlassClassificationEvaluator(metricName='accuracy')\n",
    "    accuracy = accuracy_evaluator.evaluate(results.select(col('label'), col('prediction')))\n",
    "    \n",
    "    f1_score_evaluator = MulticlassClassificationEvaluator(metricName='f1')\n",
    "    f1_score = f1_score_evaluator.evaluate(results.select(col('label'), col('prediction')))\n",
    "    \n",
    "    print('For {}, the accuracy on the test set is {:.2%} and the F-1 score is {}'\\\n",
    "    .format(model, accuracy, f1_score))"
   ]
  },
  {
   "cell_type": "code",
   "execution_count": 52,
   "metadata": {},
   "outputs": [
    {
     "name": "stdout",
     "output_type": "stream",
     "text": [
      "In our training set, before upsampling we have 41 users who churned and 150 who did not.\n"
     ]
    }
   ],
   "source": [
    "# Split this data between train, validation and test sets\n",
    "train, test = model_data.randomSplit([0.8, 0.2], seed=42)\n",
    "\n",
    "# Due to the class imbalance, we upsample the categories who churned in the training dataset\n",
    "print('In our training set, before upsampling we have {} users who churned and {} who did not.'.format(train.where(col('label') == 1).count(),\n",
    "                                                                                           train.where(col('label') == 0).count()))\n",
    "\n",
    "train_churn = train.where(col('label') == 1).sample(True, train.where(col('label') == 0).count()/train.where(col('label') == 1).count())\n",
    "train_no_churn = train.where(col('label') == 0)\n",
    "train = train_churn.unionAll(train_no_churn)"
   ]
  },
  {
   "cell_type": "code",
   "execution_count": 53,
   "metadata": {},
   "outputs": [
    {
     "name": "stdout",
     "output_type": "stream",
     "text": [
      "For logistic_regression, the accuracy on the test set is 55.88% and the F-1 score is 0.5727721983102184\n",
      "For random_forest, the accuracy on the test set is 70.59% and the F-1 score is 0.6973039215686275\n",
      "For gradient_boosting, the accuracy on the test set is 70.59% and the F-1 score is 0.6849673202614379\n"
     ]
    }
   ],
   "source": [
    "# Fit various models and visualize their accuracies\n",
    "for model in ['logistic_regression', 'random_forest', 'gradient_boosting']:\n",
    "    fit_estimate(train, test, model)"
   ]
  },
  {
   "cell_type": "markdown",
   "metadata": {},
   "source": [
    "# Final Steps\n",
    "Clean up your code, adding comments and renaming variables to make the code easier to read and maintain. Refer to the Spark Project Overview page and Data Scientist Capstone Project Rubric to make sure you are including all components of the capstone project and meet all expectations. Remember, this includes thorough documentation in a README file in a Github repository, as well as a web app or blog post."
   ]
  },
  {
   "cell_type": "code",
   "execution_count": 54,
   "metadata": {},
   "outputs": [
    {
     "name": "stdout",
     "output_type": "stream",
     "text": [
      "For RandomForestClassifier_73b1b369c0af, the accuracy on the test set is 73.53% and the F-1 score is 0.6910099889012209\n"
     ]
    }
   ],
   "source": [
    "# Optimize a Random Forest model through Grid Search\n",
    "model = RandomForestClassifier()\n",
    "param_grid = ParamGridBuilder() \\\n",
    "    .addGrid(model.minInfoGain, [0, 1]) \\\n",
    "    .addGrid(model.numTrees, [20, 50]) \\\n",
    "    .addGrid(model.maxDepth, [5, 10]) \\\n",
    "    .build()\n",
    "\n",
    "crossval = CrossValidator(estimator = Pipeline(stages=[model]),\n",
    "                         estimatorParamMaps = param_grid,\n",
    "                         evaluator = MulticlassClassificationEvaluator(metricName='f1'),\n",
    "                         numFolds = 3)\n",
    "\n",
    "classification = crossval.fit(train)\n",
    "results = classification.transform(test)\n",
    "\n",
    "# Calculate accuracy and F-1 score\n",
    "accuracy_evaluator = MulticlassClassificationEvaluator(metricName='accuracy')\n",
    "accuracy = accuracy_evaluator.evaluate(results.select(col('label'), col('prediction')))\n",
    "\n",
    "f1_score_evaluator = MulticlassClassificationEvaluator(metricName='f1')\n",
    "f1_score = f1_score_evaluator.evaluate(results.select(col('label'), col('prediction')))\n",
    "\n",
    "print('For {}, the accuracy on the test set is {:.2%} and the F-1 score is {}'\\\n",
    ".format(model, accuracy, f1_score))"
   ]
  }
 ],
 "metadata": {
  "kernelspec": {
   "display_name": "Python 3",
   "language": "python",
   "name": "python3"
  },
  "language_info": {
   "codemirror_mode": {
    "name": "ipython",
    "version": 3
   },
   "file_extension": ".py",
   "mimetype": "text/x-python",
   "name": "python",
   "nbconvert_exporter": "python",
   "pygments_lexer": "ipython3",
   "version": "3.6.3"
  }
 },
 "nbformat": 4,
 "nbformat_minor": 2
}
